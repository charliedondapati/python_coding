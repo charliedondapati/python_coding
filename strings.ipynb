{
  "nbformat": 4,
  "nbformat_minor": 0,
  "metadata": {
    "colab": {
      "provenance": [],
      "authorship_tag": "ABX9TyO3KQwR0Cba2WjBuO5SRzad",
      "include_colab_link": true
    },
    "kernelspec": {
      "name": "python3",
      "display_name": "Python 3"
    },
    "language_info": {
      "name": "python"
    }
  },
  "cells": [
    {
      "cell_type": "markdown",
      "metadata": {
        "id": "view-in-github",
        "colab_type": "text"
      },
      "source": [
        "<a href=\"https://colab.research.google.com/github/charliedondapati/python_coding/blob/main/strings.ipynb\" target=\"_parent\"><img src=\"https://colab.research.google.com/assets/colab-badge.svg\" alt=\"Open In Colab\"/></a>"
      ]
    },
    {
      "cell_type": "code",
      "execution_count": null,
      "metadata": {
        "colab": {
          "base_uri": "https://localhost:8080/"
        },
        "id": "IhLs5rACN2JU",
        "outputId": "631b5a28-f458-4854-8715-b35c63f28a71"
      },
      "outputs": [
        {
          "output_type": "stream",
          "name": "stdout",
          "text": [
            "Number of occurrences: 4\n"
          ]
        }
      ],
      "source": [
        "text = 'python is a popular programming language.'\n",
        "\n",
        "c = text.count('p')\n",
        "\n",
        "print(f'Number of occurrences: {c}')\n"
      ]
    },
    {
      "cell_type": "code",
      "source": [
        "code1 = 'FVNISJND-XX-2020'\n",
        "code2 = 'FVNISJND-XY-2019'\n",
        "\n",
        "c1 = code1.endswith('2020')\n",
        "c2 = code2.endswith('2020')\n",
        "\n",
        "print(f'code1: {c1}')\n",
        "print(f'code2: {c2}')"
      ],
      "metadata": {
        "colab": {
          "base_uri": "https://localhost:8080/"
        },
        "id": "GcJCthD_Oac0",
        "outputId": "777b4765-0278-498c-c246-e9b020a726bd"
      },
      "execution_count": null,
      "outputs": [
        {
          "output_type": "stream",
          "name": "stdout",
          "text": [
            "code1: True\n",
            "code2: False\n"
          ]
        }
      ]
    },
    {
      "cell_type": "code",
      "source": [
        "path1 = 'youtube.com/watch?v=5EhRztVxums'\n",
        "path2 = 'google.com/search?q=car'\n",
        "\n",
        "print(f\"path1: {path1.startswith('youtube')}\")\n",
        "print(f\"path2: {path2.startswith('youtube')}\")"
      ],
      "metadata": {
        "colab": {
          "base_uri": "https://localhost:8080/"
        },
        "id": "ly9-_ZyBPTMv",
        "outputId": "ca712caa-def6-45ef-ea71-aac79de90d0e"
      },
      "execution_count": null,
      "outputs": [
        {
          "output_type": "stream",
          "name": "stdout",
          "text": [
            "path1: True\n",
            "path2: False\n"
          ]
        }
      ]
    },
    {
      "cell_type": "code",
      "source": [
        "path1 = (\n",
        "    'https://e-smartdata.teachable.com/p/'\n",
        "    'sciezka-data-scientist-machine-learning-engineer'\n",
        ")\n",
        "path2 = (\n",
        "    'https://e-smartdata.teachable.com/p/'\n",
        "    'sciezka-data-scientist-deep-learning-engineer'\n",
        ")\n",
        "path3 = (\n",
        "    'https://e-smartdata.teachable.com/p/'\n",
        "    'sciezka-bi-analyst-data-analyst'\n",
        ")\n",
        "\n",
        "print(f\"path1: {path1.find('scientist')}\")\n",
        "print(f\"path2: {path2.find('scientist')}\")\n",
        "print(f\"path3: {path3.find('scientist')}\")\n"
      ],
      "metadata": {
        "colab": {
          "base_uri": "https://localhost:8080/"
        },
        "id": "yl5PO7yvQLde",
        "outputId": "86fe7755-2fe1-4c1f-dd6f-ec22dbc06e6a"
      },
      "execution_count": null,
      "outputs": [
        {
          "output_type": "stream",
          "name": "stdout",
          "text": [
            "path1: 49\n",
            "path2: 49\n",
            "path3: -1\n"
          ]
        }
      ]
    },
    {
      "cell_type": "code",
      "source": [
        "code1 = 'FVNISJND-20'\n",
        "code2 = 'FVNISJND20'\n",
        "\n",
        "print(f\"code1: {code1.isalnum()}\")\n",
        "print(f\"code2: {code2.isalnum()}\")"
      ],
      "metadata": {
        "colab": {
          "base_uri": "https://localhost:8080/"
        },
        "id": "4LKQL2KPQ2B0",
        "outputId": "640e2094-7915-4daf-cf51-475b5c6cf01a"
      },
      "execution_count": 20,
      "outputs": [
        {
          "output_type": "stream",
          "name": "stdout",
          "text": [
            "code1: False\n",
            "code2: True\n"
          ]
        }
      ]
    },
    {
      "cell_type": "code",
      "source": [
        "text = '100 Days of Code'\n",
        "\n",
        "print(text.lower())"
      ],
      "metadata": {
        "colab": {
          "base_uri": "https://localhost:8080/"
        },
        "id": "Mge1B0NKSJMY",
        "outputId": "86eb9020-8389-4a85-bfe6-e3a57aa310f9"
      },
      "execution_count": 21,
      "outputs": [
        {
          "output_type": "stream",
          "name": "stdout",
          "text": [
            "100 days of code\n"
          ]
        }
      ]
    },
    {
      "cell_type": "code",
      "source": [
        "text = '      100 Days of Code   '\n",
        "\n",
        "print(text.strip())"
      ],
      "metadata": {
        "colab": {
          "base_uri": "https://localhost:8080/"
        },
        "id": "aTL8hcllSSAV",
        "outputId": "acfeb240-4e2f-4147-fff6-94f1af91217c"
      },
      "execution_count": 22,
      "outputs": [
        {
          "output_type": "stream",
          "name": "stdout",
          "text": [
            "100 Days of Code\n"
          ]
        }
      ]
    },
    {
      "cell_type": "code",
      "source": [
        "code = 'FVNISJND-XX'\n",
        "\n",
        "print(code.replace('-',' '))"
      ],
      "metadata": {
        "colab": {
          "base_uri": "https://localhost:8080/"
        },
        "id": "0oeLC1PMSkqM",
        "outputId": "64a0dc65-5392-43ca-f2a2-d8d81684b08c"
      },
      "execution_count": 24,
      "outputs": [
        {
          "output_type": "stream",
          "name": "stdout",
          "text": [
            "FVNISJND XX\n"
          ]
        }
      ]
    },
    {
      "cell_type": "code",
      "source": [
        "headers = 'ProductID,ProductName,Category,Price'\n",
        "\n",
        "print(headers.split(','))"
      ],
      "metadata": {
        "colab": {
          "base_uri": "https://localhost:8080/"
        },
        "id": "09cgOgA2S1cJ",
        "outputId": "adc78e18-f68b-4a96-8351-a8202b1d23dc"
      },
      "execution_count": 25,
      "outputs": [
        {
          "output_type": "stream",
          "name": "stdout",
          "text": [
            "['ProductID', 'ProductName', 'Category', 'Price']\n"
          ]
        }
      ]
    },
    {
      "cell_type": "code",
      "source": [
        "text = \"\"\"Python is a general-purpose language.\n",
        "Python is popular.\"\"\"\n",
        "\n",
        "print(text.splitlines())"
      ],
      "metadata": {
        "colab": {
          "base_uri": "https://localhost:8080/"
        },
        "id": "bLnS5NwlTF9t",
        "outputId": "72f9d604-aa97-4622-febe-dda081b42bf7"
      },
      "execution_count": 26,
      "outputs": [
        {
          "output_type": "stream",
          "name": "stdout",
          "text": [
            "['Python is a general-purpose language.', 'Python is popular.']\n"
          ]
        }
      ]
    },
    {
      "cell_type": "code",
      "source": [
        "num = 3415\n",
        "\n",
        "print(str(num).zfill(8))"
      ],
      "metadata": {
        "colab": {
          "base_uri": "https://localhost:8080/"
        },
        "id": "zAivoCWiTZy8",
        "outputId": "bfa3b8dd-2880-49ca-eea5-4a786b63f765"
      },
      "execution_count": 27,
      "outputs": [
        {
          "output_type": "stream",
          "name": "stdout",
          "text": [
            "00003415\n"
          ]
        }
      ]
    },
    {
      "cell_type": "code",
      "source": [
        "url = (\n",
        "    'https://e-smartdata.teachable.com/'\n",
        "    'p/sciezka-data-scientist-machine-learning-engineer'\n",
        ")\n",
        "\n",
        "u = url.split('/')[-1]\n",
        "print(u.replace('-',' '))"
      ],
      "metadata": {
        "colab": {
          "base_uri": "https://localhost:8080/"
        },
        "id": "y7kW3QjmT8ej",
        "outputId": "05973dde-81a0-4207-f720-dfdfa9da4e2b"
      },
      "execution_count": 28,
      "outputs": [
        {
          "output_type": "stream",
          "name": "stdout",
          "text": [
            "sciezka data scientist machine learning engineer\n"
          ]
        }
      ]
    }
  ]
}