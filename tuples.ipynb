{
  "nbformat": 4,
  "nbformat_minor": 0,
  "metadata": {
    "colab": {
      "provenance": [],
      "authorship_tag": "ABX9TyNp85wOTQMpIPblQbIgnJSH",
      "include_colab_link": true
    },
    "kernelspec": {
      "name": "python3",
      "display_name": "Python 3"
    },
    "language_info": {
      "name": "python"
    }
  },
  "cells": [
    {
      "cell_type": "markdown",
      "metadata": {
        "id": "view-in-github",
        "colab_type": "text"
      },
      "source": [
        "<a href=\"https://colab.research.google.com/github/charliedondapati/python_coding/blob/main/tuples.ipynb\" target=\"_parent\"><img src=\"https://colab.research.google.com/assets/colab-badge.svg\" alt=\"Open In Colab\"/></a>"
      ]
    },
    {
      "cell_type": "code",
      "execution_count": 2,
      "metadata": {
        "colab": {
          "base_uri": "https://localhost:8080/"
        },
        "id": "tw_zbaIydDfY",
        "outputId": "59edfb19-3ba6-4d38-a455-234c2ac060d7"
      },
      "outputs": [
        {
          "output_type": "stream",
          "name": "stdout",
          "text": [
            "(('AAPL.US', 'IBM.US', 'MSFT.US'), ('HD.US', 'GS.US', 'NKE.US'))\n"
          ]
        }
      ],
      "source": [
        "dji1 = ('AAPL.US', 'IBM.US', 'MSFT.US')\n",
        "dji2 = ('HD.US', 'GS.US', 'NKE.US')\n",
        "\n",
        "result = (dji1, dji2)\n",
        "\n",
        "print(result)"
      ]
    },
    {
      "cell_type": "code",
      "source": [
        "stocks = (\n",
        "    ('Apple Inc', ('AAPL.US', 310)),\n",
        "    ('Microsoft Corp', ('MSFT.US', 184)),\n",
        ")\n",
        "\n",
        "print(stocks[0][1][0])"
      ],
      "metadata": {
        "colab": {
          "base_uri": "https://localhost:8080/"
        },
        "id": "c9GJA6MEdzJ-",
        "outputId": "ad039c1d-8376-4ec1-c269-35dff8efe3ee"
      },
      "execution_count": 6,
      "outputs": [
        {
          "output_type": "stream",
          "name": "stdout",
          "text": [
            "AAPL.US\n"
          ]
        }
      ]
    },
    {
      "cell_type": "code",
      "source": [
        "info = (('Monica', 19), ('Tom', 21), ('John', 18))\n",
        "\n",
        "asc = tuple(sorted(info,key=lambda item: item[1]))\n",
        "dsc = tuple(sorted(info, key=lambda item: item[1], reverse=True))\n",
        "\n",
        "print(f\"Ascending: {asc}\")\n",
        "print(f\"Descending: {dsc}\")"
      ],
      "metadata": {
        "colab": {
          "base_uri": "https://localhost:8080/"
        },
        "id": "m4FwL386emwa",
        "outputId": "bc62cc12-9734-4a3e-fb53-b7e7964e7e30"
      },
      "execution_count": 15,
      "outputs": [
        {
          "output_type": "stream",
          "name": "stdout",
          "text": [
            "Ascending: (('John', 18), ('Monica', 19), ('Tom', 21))\n",
            "Descending: (('Tom', 21), ('Monica', 19), ('John', 18))\n"
          ]
        }
      ]
    }
  ]
}