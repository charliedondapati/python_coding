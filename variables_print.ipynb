{
  "nbformat": 4,
  "nbformat_minor": 0,
  "metadata": {
    "colab": {
      "provenance": [],
      "authorship_tag": "ABX9TyOXkXxXGTh9lP9kj/yupAC+",
      "include_colab_link": true
    },
    "kernelspec": {
      "name": "python3",
      "display_name": "Python 3"
    },
    "language_info": {
      "name": "python"
    }
  },
  "cells": [
    {
      "cell_type": "markdown",
      "metadata": {
        "id": "view-in-github",
        "colab_type": "text"
      },
      "source": [
        "<a href=\"https://colab.research.google.com/github/charliedondapati/python_coding/blob/main/variables_print.ipynb\" target=\"_parent\"><img src=\"https://colab.research.google.com/assets/colab-badge.svg\" alt=\"Open In Colab\"/></a>"
      ]
    },
    {
      "cell_type": "code",
      "execution_count": 9,
      "metadata": {
        "colab": {
          "base_uri": "https://localhost:8080/"
        },
        "id": "AuiRBQuAt2IB",
        "outputId": "b07c33de-60f4-4a4b-ed8c-64e8b1ed5126"
      },
      "outputs": [
        {
          "output_type": "stream",
          "name": "stdout",
          "text": [
            "I love Python 3.8!\n"
          ]
        }
      ],
      "source": [
        "p='Python'\n",
        "v='3.8'\n",
        "\n",
        "print(f'I love {p} {v}!')"
      ]
    },
    {
      "cell_type": "code",
      "source": [
        "price = 42.99\n",
        "w = 30\n",
        "\n",
        "print(f'Price: ${price}. Weight: {w} lbs.')"
      ],
      "metadata": {
        "colab": {
          "base_uri": "https://localhost:8080/"
        },
        "id": "eNTpMNNRvJOn",
        "outputId": "a6a170dc-e0bd-4678-bc15-e3a6ef7fb646"
      },
      "execution_count": 12,
      "outputs": [
        {
          "output_type": "stream",
          "name": "stdout",
          "text": [
            "Price: $42.99. Weight: 30 lbs.\n"
          ]
        }
      ]
    },
    {
      "cell_type": "code",
      "source": [
        "pi=3.14\n",
        "r=10\n",
        "\n",
        "print(f'Area: {pi*r*r}')\n",
        "print(f'Area: {pi*r**2}')\n",
        "\n",
        "area = pi * r ** 2\n",
        "\n",
        "print(f'Area: {area:.1f}')"
      ],
      "metadata": {
        "colab": {
          "base_uri": "https://localhost:8080/"
        },
        "id": "YHLWlZxmzazp",
        "outputId": "9c46deb2-dea5-4944-825e-25c9f24648cd"
      },
      "execution_count": 20,
      "outputs": [
        {
          "output_type": "stream",
          "name": "stdout",
          "text": [
            "Area: 314.0\n",
            "Area: 314.0\n",
            "Area: 314.0\n"
          ]
        }
      ]
    },
    {
      "cell_type": "code",
      "source": [
        "p = 1000\n",
        "r = 3 * 0.01\n",
        "n = 1\n",
        "t = 5\n",
        "\n",
        "a = p * ((1 + (r / n)) ** (n * t))\n",
        "\n",
        "print(f'The future value of the investent: {a:.2f} USD')\n",
        "\n",
        "\n"
      ],
      "metadata": {
        "colab": {
          "base_uri": "https://localhost:8080/"
        },
        "id": "4FHdEe_y05Cn",
        "outputId": "efa2b24c-0c48-4eba-a4e3-6f38411226f4"
      },
      "execution_count": 40,
      "outputs": [
        {
          "output_type": "stream",
          "name": "stdout",
          "text": [
            "The future value of the investent: 1159.27 USD\n"
          ]
        }
      ]
    }
  ]
}