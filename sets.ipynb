{
  "nbformat": 4,
  "nbformat_minor": 0,
  "metadata": {
    "colab": {
      "provenance": [],
      "authorship_tag": "ABX9TyNBCsKqCRlcOQx5hCkwj9Di",
      "include_colab_link": true
    },
    "kernelspec": {
      "name": "python3",
      "display_name": "Python 3"
    },
    "language_info": {
      "name": "python"
    }
  },
  "cells": [
    {
      "cell_type": "markdown",
      "metadata": {
        "id": "view-in-github",
        "colab_type": "text"
      },
      "source": [
        "<a href=\"https://colab.research.google.com/github/charliedondapati/python_coding/blob/main/sets.ipynb\" target=\"_parent\"><img src=\"https://colab.research.google.com/assets/colab-badge.svg\" alt=\"Open In Colab\"/></a>"
      ]
    },
    {
      "cell_type": "code",
      "execution_count": 1,
      "metadata": {
        "colab": {
          "base_uri": "https://localhost:8080/"
        },
        "id": "uukJhRXrVRwe",
        "outputId": "c12574d6-24a7-44c3-b62e-85456fb61e94"
      },
      "outputs": [
        {
          "output_type": "stream",
          "name": "stdout",
          "text": [
            "{'english', 'biology', 'mathematics', 'physics'}\n"
          ]
        }
      ],
      "source": [
        "subjects = {'mathematics', 'biology', 'physics'}\n",
        "\n",
        "subjects.add('english')\n",
        "print(subjects)"
      ]
    },
    {
      "cell_type": "code",
      "source": [
        "text = 'Programming in python.'\n",
        "\n",
        "vowels = {'a', 'e', 'i', 'o', 'u'}\n",
        "\n",
        "text = text.lower()\n",
        "text = text.replace(' ','')\n",
        "text = text.replace('.','')\n",
        "\n",
        "letters = set(text)\n",
        "\n",
        "letters = letters.difference(vowels)\n",
        "\n",
        "print(f'Number of items: {len(letters)}')"
      ],
      "metadata": {
        "colab": {
          "base_uri": "https://localhost:8080/"
        },
        "id": "J7Ye8Hv-WOdK",
        "outputId": "252a3990-e703-4466-cfc0-cd3fe31a445c"
      },
      "execution_count": 10,
      "outputs": [
        {
          "output_type": "stream",
          "name": "stdout",
          "text": [
            "Number of items: 8\n"
          ]
        }
      ]
    },
    {
      "cell_type": "code",
      "source": [
        "A = {2, 4, 6, 8}\n",
        "B = {4, 10}\n",
        "\n",
        "print(f\"Symmetric difference: {A.symmetric_difference(B)}\")"
      ],
      "metadata": {
        "colab": {
          "base_uri": "https://localhost:8080/"
        },
        "id": "rvgUuGMFXSFm",
        "outputId": "de98cc76-b7ea-4000-f6fb-a5b29296bf37"
      },
      "execution_count": 15,
      "outputs": [
        {
          "output_type": "stream",
          "name": "stdout",
          "text": [
            "Symmetric difference: {2, 6, 8, 10}\n"
          ]
        }
      ]
    },
    {
      "cell_type": "code",
      "source": [
        "is_clicked = {'9001', '9002', '9005'}\n",
        "is_bought = {'9002', '9004', '9005'}\n",
        "\n",
        "print(f\"Customer ID: {is_clicked.intersection(is_bought)}\")"
      ],
      "metadata": {
        "colab": {
          "base_uri": "https://localhost:8080/"
        },
        "id": "d7lHglQmYVcV",
        "outputId": "349dbe95-f029-4e25-e3eb-8bccc0573418"
      },
      "execution_count": 24,
      "outputs": [
        {
          "output_type": "stream",
          "name": "stdout",
          "text": [
            "Customer ID: {'9005', '9002'}\n"
          ]
        }
      ]
    },
    {
      "cell_type": "code",
      "source": [
        "dji1 = ('AAPL.US', 'IBM.US', 'MSFT.US')\n",
        "dji2 = ('HD.US', 'GS.US', 'NKE.US')\n",
        "\n",
        "result = dji1 + dji2\n",
        "\n",
        "print(result)"
      ],
      "metadata": {
        "colab": {
          "base_uri": "https://localhost:8080/"
        },
        "id": "p-Ngxrhaaorq",
        "outputId": "3cce5142-a65d-4984-fd01-22fa09bab734"
      },
      "execution_count": 26,
      "outputs": [
        {
          "output_type": "stream",
          "name": "stdout",
          "text": [
            "('AAPL.US', 'IBM.US', 'MSFT.US', 'HD.US', 'GS.US', 'NKE.US')\n"
          ]
        }
      ]
    },
    {
      "cell_type": "code",
      "source": [
        "ad1_id = {'001', '002', '003'}\n",
        "ad2_id = {'002', '003', '007'}\n",
        "\n",
        "print(f\"Selected ID: {ad1_id.symmetric_difference(ad2_id)}\")\n"
      ],
      "metadata": {
        "colab": {
          "base_uri": "https://localhost:8080/"
        },
        "id": "FUowVQfza610",
        "outputId": "37af25a4-f114-42b1-b7f5-1e893dc1c385"
      },
      "execution_count": 32,
      "outputs": [
        {
          "output_type": "stream",
          "name": "stdout",
          "text": [
            "Selected ID: : {'007', '001'}\n"
          ]
        }
      ]
    }
  ]
}