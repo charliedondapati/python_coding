{
  "nbformat": 4,
  "nbformat_minor": 0,
  "metadata": {
    "colab": {
      "provenance": [],
      "authorship_tag": "ABX9TyOUGX/dGa3EkCJmQs7jzfcV",
      "include_colab_link": true
    },
    "kernelspec": {
      "name": "python3",
      "display_name": "Python 3"
    },
    "language_info": {
      "name": "python"
    }
  },
  "cells": [
    {
      "cell_type": "markdown",
      "metadata": {
        "id": "view-in-github",
        "colab_type": "text"
      },
      "source": [
        "<a href=\"https://colab.research.google.com/github/charliedondapati/python_coding/blob/main/calculations.ipynb\" target=\"_parent\"><img src=\"https://colab.research.google.com/assets/colab-badge.svg\" alt=\"Open In Colab\"/></a>"
      ]
    },
    {
      "cell_type": "code",
      "execution_count": 1,
      "metadata": {
        "colab": {
          "base_uri": "https://localhost:8080/"
        },
        "id": "2KBu433q8Xgb",
        "outputId": "9b8dc06f-bd0e-4ddb-a2e5-0d39fae4a41b"
      },
      "outputs": [
        {
          "output_type": "stream",
          "name": "stdout",
          "text": [
            "Delta: 4\n"
          ]
        }
      ],
      "source": [
        "# 3x2 - 4x +1 = 0\n",
        "\n",
        "b = -4\n",
        "a = 3\n",
        "c = 1\n",
        "\n",
        "d = b**2 - 4*a*c\n",
        "\n",
        "print(f'Delta: {d}')"
      ]
    },
    {
      "cell_type": "code",
      "source": [
        "# an = 10 + 4n -4n +4n\n",
        "#\n",
        "#an = 10 + 4 * n\n",
        "\n",
        "a1 = 14\n",
        "a10 = 50\n",
        "n = 10\n",
        "\n",
        "s10 = ( a1 + a10) * n/2\n",
        "\n",
        "print(f'The sum of the first 10 elements in a sequence: {s10}')\n"
      ],
      "metadata": {
        "colab": {
          "base_uri": "https://localhost:8080/"
        },
        "id": "KfT_1U0U8jhE",
        "outputId": "64c779bc-016a-4cee-cb5d-aa38fe84c7d5"
      },
      "execution_count": 4,
      "outputs": [
        {
          "output_type": "stream",
          "name": "stdout",
          "text": [
            "The sum of the first 10 elements in a sequence: 320.0\n"
          ]
        }
      ]
    },
    {
      "cell_type": "code",
      "source": [
        "# an = 8 * 2^n -1\n",
        "\n",
        "a1 = 8\n",
        "a2 = 16\n",
        "\n",
        "r = a2/a1\n",
        "n = 6\n",
        "\n",
        "s6 = a1 * ( 1 - r ** n)/(1 - r)\n",
        "\n",
        "print(f'The sum of the first 6 elements of the sequence is: {s6}')"
      ],
      "metadata": {
        "colab": {
          "base_uri": "https://localhost:8080/"
        },
        "id": "BOpE-JWJAGj7",
        "outputId": "915e5873-4923-480a-fcc8-a52b9ee37888"
      },
      "execution_count": 5,
      "outputs": [
        {
          "output_type": "stream",
          "name": "stdout",
          "text": [
            "The sum of the first 6 elements of the sequence is: 504.0\n"
          ]
        }
      ]
    }
  ]
}